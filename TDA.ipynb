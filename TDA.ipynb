{
  "nbformat": 4,
  "nbformat_minor": 0,
  "metadata": {
    "colab": {
      "name": "TDA.ipynb",
      "provenance": [],
      "collapsed_sections": [],
      "authorship_tag": "ABX9TyORBPqaYBy3ODW8h4IplpHa",
      "include_colab_link": true
    },
    "kernelspec": {
      "name": "python3",
      "display_name": "Python 3"
    }
  },
  "cells": [
    {
      "cell_type": "markdown",
      "metadata": {
        "id": "view-in-github",
        "colab_type": "text"
      },
      "source": [
        "<a href=\"https://colab.research.google.com/github/sebbbasdl/IPC2-TDA/blob/master/TDA.ipynb\" target=\"_parent\"><img src=\"https://colab.research.google.com/assets/colab-badge.svg\" alt=\"Open In Colab\"/></a>"
      ]
    },
    {
      "cell_type": "markdown",
      "metadata": {
        "id": "3QQwUt34RI_L"
      },
      "source": [
        "LISTA CIRCULAR:"
      ]
    },
    {
      "cell_type": "code",
      "metadata": {
        "id": "LH-b7n21P1nj"
      },
      "source": [
        "class linked_list_circular:\r\n",
        "  def __init__(self,head=None):\r\n",
        "    self.head=head\r\n",
        "    self.size=0\r\n",
        "\r\n",
        "  def insertar (self,cliente):  \r\n",
        "    if self.size==0:\r\n",
        "      self.head=node(cliente=cliente) \r\n",
        "      self.head.next =self.head\r\n",
        "    else:\r\n",
        "      new_node= node(cliente=cliente, next=self/head.next)  \r\n",
        "      self.head.next=new_code\r\n",
        "    self.size+=1   \r\n",
        "\r\n",
        "  def imprimir (self):\r\n",
        "    if self.head is None:\r\n",
        "      return\r\n",
        "    node = self.head \r\n",
        "    print(node.cliente.nombre, ende =\"=>\")\r\n",
        "    while node.next != self.head:\r\n",
        "      node=node.next\r\n",
        "      print(node.cliente.nombre, end=\"=>\")\r\n",
        "\r\n",
        "  def eliminar (self,no_habitacion):\r\n",
        "    node = self.head\r\n",
        "    previous = None\r\n",
        "\r\n",
        "    while True:  \r\n",
        "      if node.cliente.no_habitacion==no_habitaaacion:\r\n",
        "        if previous is not None:\r\n",
        "          previous.next =node.next\r\n",
        "        else:\r\n",
        "          while node,next !=self.head:\r\n",
        "            node = node.next\r\n",
        "          node.next=self.head.next\r\n",
        "          self.head=self.head.next   \r\n",
        "        self.size-=1\r\n",
        "        return True\r\n",
        "      elif node.next==self.head:\r\n",
        "        return False     \r\n",
        "\r\n",
        "\r\n",
        "\r\n",
        "    previous = node\r\n",
        "    node=node.next                "
      ],
      "execution_count": null,
      "outputs": []
    },
    {
      "cell_type": "code",
      "metadata": {
        "id": "Khp5BncZQJNX"
      },
      "source": [
        "lista_c=linked_list_circular()\r\n",
        "lista_c.insertar(c1)\r\n",
        "lista_c.insertar(c2)\r\n",
        "lista_c.insertar(c3)\r\n",
        "lista_c.insertar(c4)"
      ],
      "execution_count": null,
      "outputs": []
    },
    {
      "cell_type": "markdown",
      "metadata": {
        "id": "H_mK5HyajMhk"
      },
      "source": [
        "LISTA DOBLEMENTE ENLAZADA:"
      ]
    },
    {
      "cell_type": "code",
      "metadata": {
        "id": "jPzqYsI5jPhs"
      },
      "source": [
        "class node_de:\r\n",
        "  def __init__(self, cliente=None, next= None, previous=None):\r\n",
        "    self.cliente=cliente\r\n",
        "    self.previous=previous\r\n",
        "    self.next = next"
      ],
      "execution_count": null,
      "outputs": []
    }
  ]
}